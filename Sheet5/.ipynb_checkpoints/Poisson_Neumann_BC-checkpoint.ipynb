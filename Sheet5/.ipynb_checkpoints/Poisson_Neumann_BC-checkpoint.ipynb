{
 "cells": [
  {
   "cell_type": "code",
   "execution_count": 6,
   "metadata": {},
   "outputs": [
    {
     "data": {
      "image/png": "[encoded data removed]",
      "text/plain": [
       "<matplotlib.figure.Figure at 0x7f97645e4f98>"
      ]
     },
     "metadata": {},
     "output_type": "display_data"
    }
   ],
   "source": [
    "import numpy as np\n",
    "import matplotlib.pyplot as plt\n",
    "from math import pi\n",
    "\n",
    "def uex(x):\n",
    "    return (np.sin(2*pi*x))/(2*pi)**2\n",
    "\n",
    "\n",
    "def rhs(x):\n",
    "    return np.cos(2*pi*x)\n",
    "\n",
    "\n",
    "def setBoundary(A,f):\n",
    "    M = len(f) - 1\n",
    "    A[0, 0] = -2/h**2\n",
    "    A[0, 1] = 2/h**2\n",
    "    f[0] = -np.cos(2*pi*x[0]) - 2/h\n",
    "\n",
    "    A[M, M - 1] = 2/h**2\n",
    "    A[M, M] = -2/h**2\n",
    "    f[M] = -np.cos(2*pi*x[M])\n",
    "    return A,f\n",
    "\n",
    "\n",
    "def orderplot(mrange):\n",
    "    err = []\n",
    "    a = 0\n",
    "    b = 1\n",
    "    for M in mrange:\n",
    "        h = 1 / M\n",
    "        x = np.linspace(a, b, M + 1)\n",
    "        A = np.diag(np.ones(M), -1) - 2 * np.diag(np.ones(M + 1)) + np.diag(np.ones(M), +1)\n",
    "        A = A / (h ** 2)\n",
    "        f = -rhs(x)  # ! u''(x) = -cos(2pix)\n",
    "        G=np.zeros([M+2,M+2])\n",
    "\n",
    "        G[0:M+1,0:M+1]=A #https://scicomp.stackexchange.com/questions/19807/solving-a-linear-equation-system-with-pure-neumann-condition\n",
    "        G[-1,:]=np.ones(M+2)\n",
    "        G[:,-1]=np.ones(M+2)\n",
    "        G[-1,-1]=0\n",
    "\n",
    "        newf=np.append(f,0)\n",
    "        #print(G,newf)\n",
    "        u=np.linalg.solve(G,newf)\n",
    "        #err.append(np.linalg.norm(u[0:-1]-uex(x),np.Inf)) !\n",
    "\n",
    "    plt.figure()\n",
    "    plt.loglog(mrange,err,'-o',label='numerical error')\n",
    "    plt.loglog(mrange,err[-1]*mrange[-1]/mrange,'-',label='ordine 1')\n",
    "    plt.loglog(mrange,err[-1]*(mrange[-1]/mrange)**2,'-',label='order 2')\n",
    "    plt.title('Order of convergence')\n",
    "    plt.legend()\n",
    "\n",
    "\n",
    "\n",
    "\n",
    "a = 0\n",
    "b = 1\n",
    "M = 40\n",
    "h=1/M\n",
    "x = np.linspace(a,b,M+1)\n",
    "A = np.diag(np.ones(M),-1) -2*np.diag(np.ones(M+1)) + np.diag(np.ones(M),+1)\n",
    "A = A/(h**2)\n",
    "\n",
    "f = -rhs(x) #! u''(x) = -cos(2pix)\n",
    "A,f = setBoundary(A,f)\n",
    "\n",
    "G=np.zeros([M+2,M+2])\n",
    "\n",
    "G[0:M+1,0:M+1]=A #https://scicomp.stackexchange.com/questions/19807/solving-a-linear-equation-system-with-pure-neumann-condition\n",
    "\n",
    "G[-1,:]=np.ones(M+2)\n",
    "G[:,-1]=np.ones(M+2)\n",
    "G[-1,-1]=0\n",
    "\n",
    "newf=np.append(f,0)\n",
    "#print(G,newf)\n",
    "\n",
    "\n",
    "uRif=np.linalg.solve(G,newf) \n",
    "uRif = uRif[0:-1] #exclude last because of Lagrange multipliers\n",
    "plt.figure()\n",
    "plt.plot(x,uRif,'-o')\n",
    "plt.show()\n",
    "\n",
    "\n",
    "#mrange = np.arange(25,250,25) #fix error plot because no analytic solution, but I can interpolante at nodes\n",
    "#orderplot(mrange)"
   ]
  },
  {
   "cell_type": "code",
   "execution_count": null,
   "metadata": {
    "collapsed": true
   },
   "outputs": [],
   "source": []
  },
  {
   "cell_type": "code",
   "execution_count": 7,
   "metadata": {},
   "outputs": [
    {
     "name": "stdout",
     "output_type": "stream",
     "text": [
      "[[-5.0e+03  5.0e+03  0.0e+00 ...  0.0e+00  0.0e+00  1.0e+00]\n",
      " [ 2.5e+03 -5.0e+03  2.5e+03 ...  0.0e+00  0.0e+00  1.0e+00]\n",
      " [ 0.0e+00  2.5e+03 -5.0e+03 ...  0.0e+00  0.0e+00  1.0e+00]\n",
      " ...\n",
      " [ 0.0e+00  0.0e+00  0.0e+00 ... -5.0e+03  2.5e+03  1.0e+00]\n",
      " [ 0.0e+00  0.0e+00  0.0e+00 ...  5.0e+03 -5.0e+03  1.0e+00]\n",
      " [ 0.0e+00  0.0e+00  0.0e+00 ...  0.0e+00  1.0e+00  0.0e+00]]\n"
     ]
    },
    {
     "data": {
      "image/png": "[encoded data removed]",
      "text/plain": [
       "<matplotlib.figure.Figure at 0x7f973e774cf8>"
      ]
     },
     "metadata": {},
     "output_type": "display_data"
    }
   ],
   "source": [
    "a = 0\n",
    "b = 1\n",
    "M = 50\n",
    "h=1/M\n",
    "x = np.linspace(a,b,M+1)\n",
    "A = np.diag(np.ones(M),-1) -2*np.diag(np.ones(M+1)) + np.diag(np.ones(M),+1)\n",
    "A = A/(h**2)\n",
    "\n",
    "f = -rhs(x) #! u''(x) = -cos(2pix)\n",
    "A,f = setBoundary(A,f)\n",
    "\n",
    "G=np.zeros([M+2,M+2])\n",
    "\n",
    "G[0:M+1,0:M+1]=A #https://scicomp.stackexchange.com/questions/19807/solving-a-linear-equation-system-with-pure-neumann-condition\n",
    "\n",
    "G[-1,:]=np.zeros(M+2)\n",
    "G[:,-1]=np.ones(M+2)\n",
    "G[-1,-2]=1\n",
    "G[-1,-1]=0\n",
    "\n",
    "newf=np.append(f,1)\n",
    "print(G)\n",
    "\n",
    "\n",
    "uRif=np.linalg.solve(G,newf) \n",
    "uRif = uRif[0:-1] #exclude last because of Lagrange multipliers\n",
    "plt.figure()\n",
    "plt.plot(x,uRif,'-o')\n",
    "plt.show()\n",
    "\n",
    "\n",
    "#mrange = np.arange(25,250,25) #fix error plot because no analytic solution, but I can interpolante at nodes\n",
    "#orderplot(mrange)"
   ]
  },
  {
   "cell_type": "code",
   "execution_count": null,
   "metadata": {
    "collapsed": true
   },
   "outputs": [],
   "source": []
  }
 ],
 "metadata": {
  "kernelspec": {
   "display_name": "Python 3",
   "language": "python",
   "name": "python3"
  },
  "language_info": {
   "codemirror_mode": {
    "name": "ipython",
    "version": 3
   },
   "file_extension": ".py",
   "mimetype": "text/x-python",
   "name": "python",
   "nbconvert_exporter": "python",
   "pygments_lexer": "ipython3",
   "version": "3.6.3"
  }
 },
 "nbformat": 4,
 "nbformat_minor": 2
}
