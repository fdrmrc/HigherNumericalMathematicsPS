{
 "cells": [
  {
   "cell_type": "code",
   "execution_count": 4,
   "metadata": {},
   "outputs": [
    {
     "name": "stdout",
     "output_type": "stream",
     "text": [
      "0.0005519390106201172\n"
     ]
    },
    {
     "name": "stderr",
     "output_type": "stream",
     "text": [
      "/home/marco/anaconda3/lib/python3.6/site-packages/ipykernel_launcher.py:27: ComplexWarning: Casting complex values to real discards the imaginary part\n"
     ]
    },
    {
     "data": {
      "image/png": "[encoded data removed]",
      "text/plain": [
       "<matplotlib.figure.Figure at 0x7f60fa2c7cf8>"
      ]
     },
     "metadata": {},
     "output_type": "display_data"
    }
   ],
   "source": [
    "import numpy as np\n",
    "from numpy.fft import fft, ifft\n",
    "import matplotlib.pyplot as plt\n",
    "from math import pi\n",
    "import time\n",
    "\n",
    "\n",
    "M=50\n",
    "a=0\n",
    "b=1\n",
    "x=np.linspace(a,b,M+1)\n",
    "x=x[0:-1]\n",
    "\n",
    "def rhs(x):\n",
    "    return np.cos(2*pi*x)\n",
    "\n",
    "tic = time.time()\n",
    "ghat=fft( rhs(x) )\n",
    " #k=np.arange(-M/2,M/2+1)\n",
    "k = (2*pi)/(b-a)*np.concatenate((np.arange(0,M/2),np.arange(-M/2,0)),axis=0)\n",
    "\n",
    "uhat=np.zeros(len(ghat))\n",
    "for i in range(len(ghat)):\n",
    "    if (k[i]==0):\n",
    "        uhat[i]=0\n",
    "    else:\n",
    "        uhat[i]=ghat[i]/(k[i]**2)\n",
    "\n",
    "u = ifft(uhat)\n",
    "toc = time.time()\n",
    "print(toc - tic)\n",
    "u = np.real(u)\n",
    "plt.plot(x,u,'-o')\n",
    "#plt.plot(x,np.sin(2*pi*x)/(4*pi**2),'-')\n",
    "plt.show()"
   ]
  },
  {
   "cell_type": "code",
   "execution_count": null,
   "metadata": {
    "collapsed": true
   },
   "outputs": [],
   "source": []
  }
 ],
 "metadata": {
  "kernelspec": {
   "display_name": "Python 3",
   "language": "python",
   "name": "python3"
  },
  "language_info": {
   "codemirror_mode": {
    "name": "ipython",
    "version": 3
   },
   "file_extension": ".py",
   "mimetype": "text/x-python",
   "name": "python",
   "nbconvert_exporter": "python",
   "pygments_lexer": "ipython3",
   "version": "3.6.3"
  }
 },
 "nbformat": 4,
 "nbformat_minor": 2
}
