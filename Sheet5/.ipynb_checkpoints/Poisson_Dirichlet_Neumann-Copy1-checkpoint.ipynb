{
 "cells": [
  {
   "cell_type": "code",
   "execution_count": 1,
   "metadata": {},
   "outputs": [
    {
     "data": {
      "image/png": "[encoded data removed]",
      "text/plain": [
       "<matplotlib.figure.Figure at 0x7fdcd0637f60>"
      ]
     },
     "metadata": {},
     "output_type": "display_data"
    }
   ],
   "source": [
    "import numpy as np\n",
    "import matplotlib.pyplot as plt\n",
    "from math import pi\n",
    "\n",
    "def uex(x):\n",
    "    return (np.sin(2*pi*x))/(2*pi)**2\n",
    "\n",
    "\n",
    "def rhs(x):\n",
    "    return np.cos(2*pi*x)\n",
    "\n",
    "\n",
    "def setBoundary(A,f):\n",
    "    M = len(f) - 1\n",
    "    A[0, 0] = -2/h**2\n",
    "    A[0, 1] = 2/h**2\n",
    "    f[0] = -np.cos(2*pi*x[0]) - 2/h\n",
    "\n",
    "    A[M, M - 1] = 2/h**2\n",
    "    A[M, M] = -2/h**2\n",
    "    f[M] = -np.cos(2*pi*x[M])\n",
    "    return A,f\n",
    "\n",
    "a = 0\n",
    "b = 1\n",
    "M = 40\n",
    "h=1/M\n",
    "x = np.linspace(a,b,M+1)\n",
    "A = np.diag(np.ones(M),-1) -2*np.diag(np.ones(M+1)) + np.diag(np.ones(M),+1)\n",
    "A = A/(h**2)\n",
    "\n",
    "f = -rhs(x) #! u''(x) = -cos(2pix)\n",
    "A,f = setBoundary(A,f)\n",
    "\n",
    "G=np.zeros([M+2,M+2])\n",
    "\n",
    "G[0:M+1,0:M+1]=A \n",
    "\n",
    "G[-1,:]=np.ones(M+2)\n",
    "G[:,-1]=np.ones(M+2)\n",
    "G[-1,-1]=0\n",
    "\n",
    "newf=np.append(f,0)\n",
    "#print(G,newf)\n",
    "\n",
    "\n",
    "uRif=np.linalg.solve(G,newf) \n",
    "uRif = uRif[0:-1] #exclude last because of Lagrange multipliers\n",
    "plt.figure()\n",
    "plt.plot(x,uRif,'-o')\n",
    "plt.show()\n"
   ]
  },
  {
   "cell_type": "code",
   "execution_count": null,
   "metadata": {
    "collapsed": true
   },
   "outputs": [],
   "source": []
  },
  {
   "cell_type": "code",
   "execution_count": null,
   "metadata": {
    "collapsed": true
   },
   "outputs": [],
   "source": []
  }
 ],
 "metadata": {
  "kernelspec": {
   "display_name": "Python 3",
   "language": "python",
   "name": "python3"
  },
  "language_info": {
   "codemirror_mode": {
    "name": "ipython",
    "version": 3
   },
   "file_extension": ".py",
   "mimetype": "text/x-python",
   "name": "python",
   "nbconvert_exporter": "python",
   "pygments_lexer": "ipython3",
   "version": "3.6.3"
  }
 },
 "nbformat": 4,
 "nbformat_minor": 2
}
