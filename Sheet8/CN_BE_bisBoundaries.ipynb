{
 "cells": [
  {
   "cell_type": "code",
   "execution_count": 49,
   "metadata": {
    "collapsed": true
   },
   "outputs": [],
   "source": [
    "import numpy as np\n",
    "import matplotlib.pyplot as plt\n",
    "from math import pi"
   ]
  },
  {
   "cell_type": "code",
   "execution_count": 50,
   "metadata": {},
   "outputs": [
    {
     "name": "stdout",
     "output_type": "stream",
     "text": [
      "Select alpha parameter: 20\n",
      "Integrate up to time T= 0.1\n",
      "Number of time steps: 100\n"
     ]
    }
   ],
   "source": [
    "alpha = float(input('Select alpha parameter: '))\n",
    "tf = float(input('Integrate up to time T= '))\n",
    "ts = int(input('Number of time steps: '))"
   ]
  },
  {
   "cell_type": "code",
   "execution_count": 51,
   "metadata": {},
   "outputs": [],
   "source": [
    "def u0(x):\n",
    "    return np.sin(2*pi*x)\n",
    "\n",
    "\n",
    "def a(x):\n",
    "    return alpha/(1+x**2)\n",
    "\n",
    "\n",
    "\n",
    "def s(t,x):\n",
    "    return np.exp(-30*x**2)*(np.sin(t))**2\n",
    "\n",
    "\n",
    "\n",
    "M = 50\n",
    "x = np.linspace(-1,1,M+1)\n",
    "h = 2/M\n",
    "D2 = np.zeros([M-1,M-1])\n",
    "D2 = np.diag(np.ones(M-2),-1) -2*np.diag(np.ones(M-1),0) + np.diag(np.ones(M-2),+1)\n",
    "D2 = (1/h**2)*D2\n",
    "\n",
    "D1 = np.zeros([M-1,M-1])\n",
    "D1 = -np.diag(np.ones(M-2),-1) + np.diag(np.ones(M-2),+1)\n",
    "D1 = (1/(2*h))*D1"
   ]
  },
  {
   "cell_type": "code",
   "execution_count": 52,
   "metadata": {},
   "outputs": [],
   "source": [
    "k = tf/ts\n",
    "\n",
    "t = np.linspace(0,tf,ts+1)\n",
    "Un = u0(x[1:-1]) #da x_1 a X_{M-1}\n",
    "#Un = u0(x)"
   ]
  },
  {
   "cell_type": "code",
   "execution_count": 53,
   "metadata": {},
   "outputs": [],
   "source": [
    "deriv = np.zeros(M-1)\n",
    "for i in range(1,M):\n",
    "    deriv[i-1] = (a(x[i+1]) - a(x[i-1]))/(2*h)\n",
    "#deriv"
   ]
  },
  {
   "cell_type": "code",
   "execution_count": 54,
   "metadata": {
    "scrolled": true
   },
   "outputs": [],
   "source": [
    "ufb = u0(-1)\n",
    "usb = u0(1)\n",
    "I = np.eye(M-1)\n",
    "for n in range(ts):\n",
    "    b = k*s(t[n+1],x[1:-1])\n",
    "    b[0] = k*s(t[n+1],x[1]) + ufb*k*a(x[1])/(h**2) - k*ufb*(a(x[2])-a(x[0]))/(4*h**2) #nodo x_1\n",
    "    b[-1] = k*s(t[n+1],x[M-1]) + usb*k*a(x[M-1])/(h**2)  + k*usb*(a(x[M])-a(x[M-2]))/(4*h**2) #nodo x_M-1\n",
    "    \n",
    "    #A = np.diag(a(x[1:-1]))@(D2@Un) + np.diag(D1@a(x[1:-1]))@(D1@Un)\n",
    "    \n",
    "    A = np.diag(a(x[1:-1]))@D2 + np.diag(deriv)@D1\n",
    "    U = np.linalg.solve(I - k*A,Un + b)\n",
    "    Un = U.copy()\n"
   ]
  },
  {
   "cell_type": "code",
   "execution_count": 55,
   "metadata": {},
   "outputs": [
    {
     "data": {
      "image/png": "[encoded data removed]",
      "text/plain": [
       "<matplotlib.figure.Figure at 0x7f8e3a475f60>"
      ]
     },
     "metadata": {},
     "output_type": "display_data"
    }
   ],
   "source": [
    "Ufinal = np.zeros(M+1)\n",
    "Ufinal[0] = ufb\n",
    "Ufinal[1:-1] = U\n",
    "Ufinal[-1] = usb\n",
    "plt.plot(x,Ufinal,'-o')\n",
    "plt.show()"
   ]
  },
  {
   "cell_type": "code",
   "execution_count": 56,
   "metadata": {},
   "outputs": [
    {
     "name": "stdout",
     "output_type": "stream",
     "text": [
      "[ 2.44929360e-16  3.10630724e-06  6.10269959e-06  9.00425795e-06\n",
      "  1.18245007e-05  1.45755928e-05  1.72685366e-05  1.99133472e-05\n",
      "  2.25192149e-05  2.50946554e-05  2.76476485e-05  3.01857619e-05\n",
      "  3.27162440e-05  3.52460405e-05  3.77816163e-05  4.03283348e-05\n",
      "  4.28889466e-05  4.54605628e-05  4.80295407e-05  5.05643165e-05\n",
      "  5.30075995e-05  5.52711823e-05  5.72378576e-05  5.87740540e-05\n",
      "  5.97530356e-05  6.00830242e-05  5.97304748e-05  5.87291280e-05\n",
      "  5.71709606e-05  5.51829120e-05  5.28987655e-05  5.04359494e-05\n",
      "  4.78829036e-05  4.52971624e-05  4.27105447e-05  4.01369583e-05\n",
      "  3.75795645e-05  3.50358885e-05  3.25008411e-05  2.99682227e-05\n",
      "  2.74313363e-05  2.48831549e-05  2.23162941e-05  1.97229061e-05\n",
      "  1.70945425e-05  1.44220010e-05  1.16951602e-05  8.90280386e-06\n",
      "  6.03243203e-06  3.07005964e-06 -2.44929360e-16]\n"
     ]
    }
   ],
   "source": [
    "print(Ufinal)"
   ]
  },
  {
   "cell_type": "code",
   "execution_count": 57,
   "metadata": {},
   "outputs": [],
   "source": [
    "I = np.eye(M-1)\n",
    "Un = u0(x[1:-1])\n",
    "for n in range(ts):\n",
    "    bCN = 0.5*k*( s(t[n+1],x[1:-1]) + s(t[n],x[1:-1]) + np.diag(a(x[1:-1]))@(D2@Un) + np.diag(deriv)@(D1@Un) )\n",
    "    Aun = np.diag(a(x[1:-1]))@(D2@Un) + np.diag(deriv)@(D1@Un)\n",
    "    bCN[0] = 0.5*k*( s(t[n+1],x[1]) + s(t[n],x[1]) + 2*ufb*a(x[1])/(h**2) - 2*ufb*(a(x[2])-a(x[0]))/(4*h**2) + Aun[0] )#nodo x_1\n",
    "    bCN[-1] = 0.5*k*( s(t[n+1],x[M-1]) + s(t[n],x[M-1])  + 2*usb*a(x[M-1])/(h**2)  + 2*usb*(a(x[M])-a(x[M-2]))/(4*h**2) +Aun[-1]) #nodo x_M-1\n",
    "        \n",
    "    \n",
    "    ACN = np.diag(a(x[1:-1]))@D2 + np.diag(deriv)@D1\n",
    "    UCN = np.linalg.solve(I - 0.5*k*ACN,Un + bCN)\n",
    "    Un = UCN.copy()\n"
   ]
  },
  {
   "cell_type": "code",
   "execution_count": 58,
   "metadata": {},
   "outputs": [
    {
     "data": {
      "image/png": "[encoded data removed]",
      "text/plain": [
       "<matplotlib.figure.Figure at 0x7f8e3a475d68>"
      ]
     },
     "metadata": {},
     "output_type": "display_data"
    }
   ],
   "source": [
    "UfinalCN = np.zeros(M+1)\n",
    "UfinalCN[0] = ufb\n",
    "UfinalCN[1:-1] = UCN\n",
    "UfinalCN[-1] = usb\n",
    "plt.plot(x,UfinalCN,'-o')\n",
    "plt.show()"
   ]
  },
  {
   "cell_type": "code",
   "execution_count": null,
   "metadata": {
    "collapsed": true
   },
   "outputs": [],
   "source": []
  },
  {
   "cell_type": "code",
   "execution_count": 59,
   "metadata": {
    "scrolled": true
   },
   "outputs": [],
   "source": [
    "if (ts>8000 and alpha < 5):\n",
    "    tsrange = np.arange(200,500,50)\n",
    "    uRifCN = UCN\n",
    "    errCN = []\n",
    "    for ts in tsrange:\n",
    "        k = tf/ts\n",
    "        t = np.linspace(0,tf,ts+1)\n",
    "        I = np.eye(M-1)\n",
    "        Un = u0(x[1:-1])\n",
    "        for n in range(ts):\n",
    "            bCN = 0.5*k*( s(t[n+1],x[1:-1]) + s(t[n],x[1:-1]) + np.diag(a(x[1:-1]))@(D2@Un) + np.diag(deriv)@(D1@Un) )\n",
    "            Aun = np.diag(a(x[1:-1]))@(D2@Un) + np.diag(deriv)@(D1@Un)\n",
    "            bCN[0] = 0.5*k*( s(t[n+1],x[1]) + s(t[n],x[1]) + 2*ufb*a(x[1])/(h**2) - 2*ufb*(a(x[2])-a(x[0]))/(4*h**2) + Aun[0] )#nodo x_1\n",
    "            bCN[-1] = 0.5*k*( s(t[n+1],x[M-1]) + s(t[n],x[M-1])  + 2*usb*a(x[M-1])/(h**2)  + 2*usb*(a(x[M])-a(x[M-2]))/(4*h**2) +Aun[-1]) #nodo x_M-1\n",
    "    \n",
    "            A = np.diag(a(x[1:-1]))@D2 + np.diag(deriv)@D1\n",
    "            UCN = np.linalg.solve(I - 0.5*k*A,Un + bCN)\n",
    "            Un = UCN.copy()\n",
    "    \n",
    "        errCN.append(np.linalg.norm(UCN - uRifCN,np.Inf))\n",
    "\n",
    "    \n",
    "    plt.figure(figsize=(8,8))\n",
    "    plt.loglog(tsrange, errCN, '-o', label='Crank Nicolson')\n",
    "    plt.loglog(tsrange, errCN[-1] * tsrange[-1] / tsrange, '-', label='ordine 1')\n",
    "    plt.loglog(tsrange, errCN[-1] * (tsrange[-1] / tsrange) ** 2, '-', label='order 2')\n",
    "    plt.title('Crank Nicolson')\n",
    "    plt.legend()\n",
    "    plt.show()"
   ]
  },
  {
   "cell_type": "code",
   "execution_count": null,
   "metadata": {},
   "outputs": [],
   "source": []
  }
 ],
 "metadata": {
  "kernelspec": {
   "display_name": "Python 3",
   "language": "python",
   "name": "python3"
  },
  "language_info": {
   "codemirror_mode": {
    "name": "ipython",
    "version": 3
   },
   "file_extension": ".py",
   "mimetype": "text/x-python",
   "name": "python",
   "nbconvert_exporter": "python",
   "pygments_lexer": "ipython3",
   "version": "3.6.3"
  }
 },
 "nbformat": 4,
 "nbformat_minor": 2
}
