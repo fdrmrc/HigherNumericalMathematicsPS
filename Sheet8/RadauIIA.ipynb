{
 "cells": [
  {
   "cell_type": "code",
   "execution_count": 176,
   "metadata": {
    "collapsed": true
   },
   "outputs": [],
   "source": [
    "import numpy as np\n",
    "from scipy.optimize import newton_krylov\n",
    "import matplotlib.pyplot as plt"
   ]
  },
  {
   "cell_type": "code",
   "execution_count": 177,
   "metadata": {},
   "outputs": [],
   "source": [
    "def radauIIstep(rhs,tn,yn,h):\n",
    "    #INPUT: rhs, current solution at time t_n, step size h\n",
    "    #OUTPUT: solution at time t_{n+1}\n",
    "    \n",
    "    def fun(p):\n",
    "        x,y = p\n",
    "        #print(x-rhs(tn+h/3,yn+h*(5/12*x-1/12*y)))\n",
    "        return np.concatenate([x-rhs(tn+h/3,yn+h*(5/12*x-1/12*y)),y-rhs(tn+h,yn+h*(3/4*x+1/4*y))])\n",
    "    \n",
    "    #print(fun(np.array(y0)))\n",
    "    #print(newton_krylov(fun, (yn,yn)))\n",
    "    k1,k2 =  newton_krylov(fun, (yn,yn),f_tol=1e-10,f_rtol=1e-3)\n",
    "    #print(fun(np.array([k1,k2])))\n",
    "    #print(k1,k2)\n",
    "    return yn + h*(3/4*k1 + 1/4*k2)\n",
    "\n"
   ]
  },
  {
   "cell_type": "code",
   "execution_count": 178,
   "metadata": {
    "scrolled": true
   },
   "outputs": [
    {
     "data": {
      "text/plain": [
       "array([0.74074074, 0.80652942])"
      ]
     },
     "execution_count": 178,
     "metadata": {},
     "output_type": "execute_result"
    }
   ],
   "source": [
    "def rhs(t,y):\n",
    "    return np.array([-3*y[0],-y[1]*(t+2)])\n",
    "\n",
    "\n",
    "radauIIstep(rhs,tn=0.1,yn=[1,1],h=0.1)"
   ]
  },
  {
   "cell_type": "code",
   "execution_count": 180,
   "metadata": {},
   "outputs": [
    {
     "data": {
      "image/png": "[encoded data removed]",
      "text/plain": [
       "<matplotlib.figure.Figure at 0x7fdc95333b38>"
      ]
     },
     "metadata": {},
     "output_type": "display_data"
    }
   ],
   "source": [
    "def uex(t):\n",
    "    return np.array([np.exp(-3*t),np.exp(-0.5*t*(t+4))])\n",
    "\n",
    "\n",
    "def radauIIA(rhs,t0,tf,ts,y0):\n",
    "    y = np.zeros((len(y0),ts+1))\n",
    "    y[:,0] = y0\n",
    "#     print(y)\n",
    "    #t = []\n",
    "    #y.append(y0)\n",
    "    #t.append(t0)\n",
    "    t = np.linspace(t0,tf,ts+1)\n",
    "    h = (tf-t0)/ts\n",
    "    for n in range(0,ts):\n",
    "        y[:,n+1] = radauIIstep(rhs,t[n],y[:,n],h)\n",
    "        t[n+1] = t[n]+h\n",
    "    return t,y\n",
    "\n",
    "        \n",
    "y0 = np.array([1,1])\n",
    "t0=0\n",
    "tf=1\n",
    "ts=20\n",
    "t,y = radauIIA(rhs,t0,tf,ts,y0)\n",
    "plt.plot(t,y[1,:],'-o',t,uex(t)[1],'g')\n",
    "plt.show()"
   ]
  },
  {
   "cell_type": "code",
   "execution_count": 181,
   "metadata": {},
   "outputs": [
    {
     "data": {
      "image/png": "[encoded data removed]",
      "text/plain": [
       "<matplotlib.figure.Figure at 0x7fdc9549e080>"
      ]
     },
     "metadata": {},
     "output_type": "display_data"
    }
   ],
   "source": [
    "tsrange = np.arange(50,150,10)\n",
    "err = []\n",
    "for ts in tsrange:\n",
    "    t0=0\n",
    "    y0=[1,1]\n",
    "    tf =1\n",
    "    t,y = radauIIA(rhs,t0,tf,ts,y0)\n",
    "    err.append(np.linalg.norm(y[:,-1]-uex(tf),np.Inf))\n",
    "\n",
    "plt.loglog(tsrange,err,'*',tsrange,err[-1]*tsrange[-1]/tsrange,'r',tsrange,err[-1] * (tsrange[-1] / tsrange) ** 3,'g')\n",
    "plt.show()"
   ]
  }
 ],
 "metadata": {
  "kernelspec": {
   "display_name": "Python 3",
   "language": "python",
   "name": "python3"
  },
  "language_info": {
   "codemirror_mode": {
    "name": "ipython",
    "version": 3
   },
   "file_extension": ".py",
   "mimetype": "text/x-python",
   "name": "python",
   "nbconvert_exporter": "python",
   "pygments_lexer": "ipython3",
   "version": "3.6.3"
  }
 },
 "nbformat": 4,
 "nbformat_minor": 2
}
