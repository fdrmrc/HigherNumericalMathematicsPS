{
 "cells": [
  {
   "cell_type": "code",
   "execution_count": 1,
   "metadata": {
    "collapsed": true
   },
   "outputs": [],
   "source": [
    "import numpy as np\n",
    "import matplotlib.pyplot as plt\n",
    "from math import pi"
   ]
  },
  {
   "cell_type": "code",
   "execution_count": 2,
   "metadata": {},
   "outputs": [
    {
     "name": "stdout",
     "output_type": "stream",
     "text": [
      "Decide boundary conditions type: Dirichlet\n",
      "Select alpha parameter: 500\n",
      "Number of time steps: 600\n"
     ]
    }
   ],
   "source": [
    "bdtype = input('Decide boundary conditions type: ')\n",
    "alpha = float(input('Select alpha parameter: '))\n",
    "ts = int(input('Number of time steps: '))"
   ]
  },
  {
   "cell_type": "code",
   "execution_count": 3,
   "metadata": {
    "collapsed": true
   },
   "outputs": [],
   "source": [
    "def u0(x):\n",
    "    return np.cos(2*pi*x)\n",
    "\n",
    "\n",
    "def a(x):\n",
    "    return alpha/(1+x**2)\n",
    "\n",
    "\n",
    "\n",
    "def s(t,x):\n",
    "    return np.exp(-30*x**2)*(np.sin(t))**2\n",
    "\n",
    "\n",
    "\n",
    "M = 50\n",
    "x = np.linspace(-1,1,M+1)\n",
    "a = a(x)\n",
    "h = 2/M\n",
    "D2 = np.zeros([M+1,M+1])\n",
    "D2 = np.diag(np.ones(M),-1) -2*np.diag(np.ones(M+1),0) + np.diag(np.ones(M),+1)\n",
    "D2 = (1/h**2)*D2\n",
    "\n",
    "D1 = np.zeros([M+1,M+1])\n",
    "D1 = -np.diag(np.ones(M),-1) + np.diag(np.ones(M),+1)\n",
    "D1 = (1/(2*h))*D1"
   ]
  },
  {
   "cell_type": "code",
   "execution_count": 4,
   "metadata": {
    "collapsed": true
   },
   "outputs": [],
   "source": [
    "tf = 0.5\n",
    "k = tf/ts\n",
    "\n",
    "t = np.linspace(0,tf,ts+1)\n",
    "Un = u0(x)\n",
    "UnBE = u0(x)"
   ]
  },
  {
   "cell_type": "code",
   "execution_count": 5,
   "metadata": {
    "scrolled": true
   },
   "outputs": [
    {
     "data": {
      "image/png": "[encoded data removed]",
      "text/plain": [
       "<matplotlib.figure.Figure at 0x7f429c6db4a8>"
      ]
     },
     "metadata": {},
     "output_type": "display_data"
    },
    {
     "name": "stdout",
     "output_type": "stream",
     "text": [
      "0.9999999999866418 1.0\n"
     ]
    }
   ],
   "source": [
    "I = np.eye(M+1)\n",
    "for n in range(0,ts):  \n",
    "     \n",
    "    if (bdtype == 'Dirichlet'):\n",
    "        bb = k*0.5*(s(t[n],x) + s(t[n+1],x) + np.diag(a)@(D2@Un) + np.diag(D1@a)@(D1@Un) )\n",
    "        AA = k*0.5*(np.diag(a)@D2 + np.diag(D1@a)@D1)\n",
    "        bb[0] = 0\n",
    "        bb[-1] = 0\n",
    "        #Dirichlet boundaries\n",
    "        AA[0,:]= np.zeros(M+1)\n",
    "        AA[-1,:]= np.zeros(M+1)\n",
    "        \n",
    "        \n",
    "        \n",
    "        bbE = k*( s(t[n+1],x))\n",
    "        AAE = k*(np.diag(a)@D2 + np.diag(D1@a)@D1)\n",
    "        bbE[0] = 0\n",
    "        bbE[-1] = 0\n",
    "        #Dirichlet boundaries\n",
    "        AAE[0,:]= np.zeros(M+1)\n",
    "        AAE[-1,:]= np.zeros(M+1)\n",
    "        \n",
    "    elif (bdtype == 'Neumann'):\n",
    "        D2[0,0] = -2/h**2\n",
    "        D2[0,1] = 2/h**2\n",
    "        D2[-1,M-1] = 2/h**2\n",
    "        D2[-1,M] = -2/h**2\n",
    "        D1[0,:] = np.zeros(M+1)\n",
    "        D1[-1,:] = np.zeros(M+1)\n",
    "        \n",
    "        \n",
    "        bb = k*0.5*(s(t[n],x) + s(t[n+1],x) + np.diag(a)@(D2@Un) + np.diag(D1@a)@(D1@Un) )\n",
    "        AA = k*0.5*(np.diag(a)@D2 + np.diag(D1@a)@D1)\n",
    "        \n",
    "\n",
    "        bbE = k*( s(t[n+1],x))\n",
    "        AAE = k*(np.diag(a)@D2 + np.diag(D1@a)@D1)\n",
    "\n",
    "    \n",
    "    \n",
    "    uCN = np.linalg.solve(I-AA,Un + bb)\n",
    "    Un = uCN.copy()\n",
    "    \n",
    "    \n",
    "    uBE = np.linalg.solve(I-AAE,UnBE + bbE)\n",
    "    UnBE = uBE.copy()\n",
    "\n",
    "#print(U)\n",
    "plt.figure(figsize=(10,5))\n",
    "plt.plot(x,uBE,'r-o',markerfacecolor='None',label='Backward Euler')\n",
    "plt.plot(x,uCN,'b-o',markerfacecolor='None',label='Crank Nicolson')\n",
    "plt.legend()\n",
    "plt.grid()\n",
    "plt.show()\n",
    "print(min(uCN),min(uBE))"
   ]
  },
  {
   "cell_type": "code",
   "execution_count": 6,
   "metadata": {
    "collapsed": true
   },
   "outputs": [],
   "source": [
    "if (ts>8000 and alpha <5):\n",
    "    count = 0\n",
    "    errCN = []\n",
    "    errBE = []\n",
    "    tsrange = np.arange(50,500,50)\n",
    "    uRifCN = uCN\n",
    "    uRifBE = uBE\n",
    "    for ts in tsrange:\n",
    "        t = np.linspace(0,tf,ts+1)\n",
    "        k = tf/ts\n",
    "        Un = u0(x)\n",
    "        UnBE = u0(x)\n",
    "        I = np.eye(M+1)\n",
    "        for n in range(0,ts):\n",
    "            if (bdtype == 'Dirichlet'):\n",
    "                bb = k*0.5*(s(t[n],x) + s(t[n+1],x) + np.diag(a)@(D2@Un) + np.diag(D1@a)@(D1@Un) )\n",
    "                AA = k*0.5*(np.diag(a)@D2 + np.diag(D1@a)@D1)\n",
    "                bb[0] = 0\n",
    "                bb[-1] = 0\n",
    "                #Dirichlet boundaries\n",
    "                AA[0,:]= np.zeros(M+1)\n",
    "                AA[-1,:]= np.zeros(M+1)\n",
    "        \n",
    "        \n",
    "        \n",
    "                bbE = k*( s(t[n+1],x))\n",
    "                AAE = k*(np.diag(a)@D2 + np.diag(D1@a)@D1)\n",
    "                bbE[0] = 0\n",
    "                bbE[-1] = 0\n",
    "                #Dirichlet boundaries\n",
    "                AAE[0,:]= np.zeros(M+1)\n",
    "                AAE[-1,:]= np.zeros(M+1)\n",
    "        \n",
    "            elif (bdtype == 'Neumann'):\n",
    "                D2[0,0] = -2/h**2\n",
    "                D2[0,1] = 2/h**2\n",
    "                D2[-1,M-1] = 2/h**2\n",
    "                D2[-1,M] = -2/h**2\n",
    "                D1[0,:] = np.zeros(M+1)\n",
    "                D1[-1,:] = np.zeros(M+1)\n",
    "                \n",
    "                \n",
    "                bb = k*0.5*(s(t[n],x) + s(t[n+1],x) + np.diag(a)@(D2@Un) + np.diag(D1@a)@(D1@Un) )\n",
    "                AA = k*0.5*(np.diag(a)@D2 + np.diag(D1@a)@D1)\n",
    "        \n",
    "         \n",
    "                bbE = k*( s(t[n+1],x))\n",
    "                AAE = k*(np.diag(a)@D2 + np.diag(D1@a)@D1)\n",
    "\n",
    "    \n",
    "    \n",
    "            uCN = np.linalg.solve(I-AA,Un + bb)\n",
    "            Un = uCN.copy()\n",
    "    \n",
    "    \n",
    "            uBE = np.linalg.solve(I-AAE,UnBE + bbE)\n",
    "            UnBE = uBE.copy()\n",
    "        \n",
    "        errCN.append(np.linalg.norm(uCN - uRifCN,np.Inf))\n",
    "        errBE.append(np.linalg.norm(uBE - uRifBE,np.Inf))\n",
    "\n",
    "\n",
    "        \n",
    "    plt.figure(figsize=(8,8))\n",
    "    plt.loglog(tsrange, errCN, '-o', label='Crank Nicolson')\n",
    "    plt.loglog(tsrange, errCN[-1] * tsrange[-1] / tsrange, '-', label='ordine 1')\n",
    "    plt.loglog(tsrange, errCN[-1] * (tsrange[-1] / tsrange) ** 2, '-', label='order 2')\n",
    "    plt.title('Crank Nicolson')\n",
    "    plt.legend()\n",
    "    plt.show()\n",
    "    \n",
    "    plt.figure(figsize=(8,8))\n",
    "    plt.loglog(tsrange, errBE, '-o', label='Backward Euler')\n",
    "    plt.loglog(tsrange, errBE[-1] * tsrange[-1] / tsrange, '-', label='ordine 1')\n",
    "    plt.loglog(tsrange, errBE[-1] * (tsrange[-1] / tsrange) ** 2, '-', label='order 2')\n",
    "    plt.title('Order of convergence  for Back. Euler')\n",
    "    plt.legend()\n",
    "    plt.show()"
   ]
  }
 ],
 "metadata": {
  "kernelspec": {
   "display_name": "Python 3",
   "language": "python",
   "name": "python3"
  },
  "language_info": {
   "codemirror_mode": {
    "name": "ipython",
    "version": 3
   },
   "file_extension": ".py",
   "mimetype": "text/x-python",
   "name": "python",
   "nbconvert_exporter": "python",
   "pygments_lexer": "ipython3",
   "version": "3.6.3"
  }
 },
 "nbformat": 4,
 "nbformat_minor": 2
}
