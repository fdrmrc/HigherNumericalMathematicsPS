{
 "cells": [
  {
   "cell_type": "code",
   "execution_count": 17,
   "metadata": {},
   "outputs": [],
   "source": [
    "import numpy as np\n",
    "from numpy.fft import fft, ifft\n",
    "import time\n",
    "from math import pi\n",
    "import matplotlib.pyplot as plt"
   ]
  },
  {
   "cell_type": "code",
   "execution_count": 18,
   "metadata": {},
   "outputs": [
    {
     "name": "stdout",
     "output_type": "stream",
     "text": [
      "fourier execution time is 0.337ms\n"
     ]
    },
    {
     "data": {
      "image/png": "[encoded data removed]",
      "text/plain": [
       "<matplotlib.figure.Figure at 0x7f43ec7c19b0>"
      ]
     },
     "metadata": {},
     "output_type": "display_data"
    }
   ],
   "source": [
    "def u_fourier(x, f):\n",
    "    L = len(x)\n",
    "    ind_k = np.array([i for i in range(1,L//2+1)] + [i for i in range(-L//2+1,0)])\n",
    "    denom = np.square(ind_k*2.*np.pi)\n",
    "    time_start = time.time()\n",
    "    f_k = np.fft.fft(f(x))\n",
    "    # fourier components are 0, positive..., nyquist, negative...\\n\"\n",
    "    u_k = np.insert(f_k[1:]/denom,0,0.)\n",
    "    u_i = np.real(np.fft.ifft(u_k))\n",
    "    time_end = time.time()\n",
    "    \n",
    "    print('fourier execution time is {:0.3f}ms'.format((time_end-time_start)*1000.))\n",
    "    return u_i\n",
    "\n",
    "\n",
    "def f(x):\n",
    "    return np.cos(2*pi*x)\n",
    "\n",
    "M=200\n",
    "x=np.linspace(0,1,M+1)\n",
    "u=u_fourier(x,f)\n",
    "plt.plot(x,u)\n",
    "plt.show()"
   ]
  },
  {
   "cell_type": "code",
   "execution_count": null,
   "metadata": {
    "collapsed": true
   },
   "outputs": [],
   "source": []
  }
 ],
 "metadata": {
  "kernelspec": {
   "display_name": "Python 3",
   "language": "python",
   "name": "python3"
  },
  "language_info": {
   "codemirror_mode": {
    "name": "ipython",
    "version": 3
   },
   "file_extension": ".py",
   "mimetype": "text/x-python",
   "name": "python",
   "nbconvert_exporter": "python",
   "pygments_lexer": "ipython3",
   "version": "3.6.3"
  }
 },
 "nbformat": 4,
 "nbformat_minor": 2
}
